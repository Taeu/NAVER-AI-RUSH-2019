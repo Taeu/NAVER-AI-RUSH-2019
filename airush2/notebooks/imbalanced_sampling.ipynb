{
 "cells": [
  {
   "cell_type": "markdown",
   "metadata": {},
   "source": [
    "# Under-Sampling Test"
   ]
  },
  {
   "cell_type": "code",
   "execution_count": 18,
   "metadata": {},
   "outputs": [],
   "source": [
    "# !pip install -U imbalanced-learn\n",
    "import numpy as np\n",
    "import pandas as pd\n",
    "\n",
    "from imblearn.under_sampling import RandomUnderSampler\n",
    "from imblearn.over_sampling import SMOTE, SMOTENC"
   ]
  },
  {
   "cell_type": "code",
   "execution_count": 4,
   "metadata": {},
   "outputs": [],
   "source": [
    "train_df = pd.read_csv('../data/train.tsv', sep='\\t')\n",
    "label_df = pd.read_csv('../data/train_label.tsv', sep='\\t')"
   ]
  },
  {
   "cell_type": "code",
   "execution_count": 9,
   "metadata": {},
   "outputs": [],
   "source": [
    "train_df = train_df.fillna('')"
   ]
  },
  {
   "cell_type": "code",
   "execution_count": 20,
   "metadata": {},
   "outputs": [
    {
     "data": {
      "text/html": [
       "<div>\n",
       "<style scoped>\n",
       "    .dataframe tbody tr th:only-of-type {\n",
       "        vertical-align: middle;\n",
       "    }\n",
       "\n",
       "    .dataframe tbody tr th {\n",
       "        vertical-align: top;\n",
       "    }\n",
       "\n",
       "    .dataframe thead th {\n",
       "        text-align: right;\n",
       "    }\n",
       "</style>\n",
       "<table border=\"1\" class=\"dataframe\">\n",
       "  <thead>\n",
       "    <tr style=\"text-align: right;\">\n",
       "      <th></th>\n",
       "      <th>article_id</th>\n",
       "      <th>hh</th>\n",
       "      <th>gender</th>\n",
       "      <th>age_range</th>\n",
       "      <th>read_article_ids</th>\n",
       "    </tr>\n",
       "  </thead>\n",
       "  <tbody>\n",
       "    <tr>\n",
       "      <th>0</th>\n",
       "      <td>ed173d87cf27</td>\n",
       "      <td>17</td>\n",
       "      <td>m</td>\n",
       "      <td>50-</td>\n",
       "      <td>d6e3c3f0d131,85270a430a54,4364abac22bf</td>\n",
       "    </tr>\n",
       "    <tr>\n",
       "      <th>1</th>\n",
       "      <td>2f6139c6b61e</td>\n",
       "      <td>6</td>\n",
       "      <td>m</td>\n",
       "      <td>40-44</td>\n",
       "      <td>04f098ccc312,c353deabeed8,94599f81d773,09f0324...</td>\n",
       "    </tr>\n",
       "    <tr>\n",
       "      <th>2</th>\n",
       "      <td>bfde563f2df4</td>\n",
       "      <td>9</td>\n",
       "      <td>m</td>\n",
       "      <td>50-</td>\n",
       "      <td></td>\n",
       "    </tr>\n",
       "    <tr>\n",
       "      <th>3</th>\n",
       "      <td>a5e218237de4</td>\n",
       "      <td>7</td>\n",
       "      <td>m</td>\n",
       "      <td>40-44</td>\n",
       "      <td>14a7cb6072af</td>\n",
       "    </tr>\n",
       "    <tr>\n",
       "      <th>4</th>\n",
       "      <td>01e234fed982</td>\n",
       "      <td>8</td>\n",
       "      <td>f</td>\n",
       "      <td>40-44</td>\n",
       "      <td>bec684f0ace5,83882e5ba8f4,3460807b3aef,ae197ea...</td>\n",
       "    </tr>\n",
       "  </tbody>\n",
       "</table>\n",
       "</div>"
      ],
      "text/plain": [
       "     article_id  hh gender age_range  \\\n",
       "0  ed173d87cf27  17      m       50-   \n",
       "1  2f6139c6b61e   6      m     40-44   \n",
       "2  bfde563f2df4   9      m       50-   \n",
       "3  a5e218237de4   7      m     40-44   \n",
       "4  01e234fed982   8      f     40-44   \n",
       "\n",
       "                                    read_article_ids  \n",
       "0             d6e3c3f0d131,85270a430a54,4364abac22bf  \n",
       "1  04f098ccc312,c353deabeed8,94599f81d773,09f0324...  \n",
       "2                                                     \n",
       "3                                       14a7cb6072af  \n",
       "4  bec684f0ace5,83882e5ba8f4,3460807b3aef,ae197ea...  "
      ]
     },
     "execution_count": 20,
     "metadata": {},
     "output_type": "execute_result"
    }
   ],
   "source": [
    "train_df.head()"
   ]
  },
  {
   "cell_type": "code",
   "execution_count": 10,
   "metadata": {},
   "outputs": [
    {
     "data": {
      "text/plain": [
       "0    94\n",
       "1     6\n",
       "Name: label, dtype: int64"
      ]
     },
     "execution_count": 10,
     "metadata": {},
     "output_type": "execute_result"
    }
   ],
   "source": [
    "label_df['label'].value_counts()"
   ]
  },
  {
   "cell_type": "code",
   "execution_count": 11,
   "metadata": {},
   "outputs": [],
   "source": [
    "train_x, train_y = RandomUnderSampler(random_state=42).fit_sample(train_df, label_df)"
   ]
  },
  {
   "cell_type": "code",
   "execution_count": 13,
   "metadata": {},
   "outputs": [
    {
     "data": {
      "text/plain": [
       "(12, 5)"
      ]
     },
     "execution_count": 13,
     "metadata": {},
     "output_type": "execute_result"
    }
   ],
   "source": [
    "train_x.shape"
   ]
  },
  {
   "cell_type": "code",
   "execution_count": 14,
   "metadata": {},
   "outputs": [
    {
     "data": {
      "text/plain": [
       "array([[0],\n",
       "       [0],\n",
       "       [0],\n",
       "       [0],\n",
       "       [0],\n",
       "       [0],\n",
       "       [1],\n",
       "       [1],\n",
       "       [1],\n",
       "       [1],\n",
       "       [1],\n",
       "       [1]])"
      ]
     },
     "execution_count": 14,
     "metadata": {},
     "output_type": "execute_result"
    }
   ],
   "source": [
    "train_y"
   ]
  },
  {
   "cell_type": "code",
   "execution_count": 22,
   "metadata": {},
   "outputs": [
    {
     "name": "stderr",
     "output_type": "stream",
     "text": [
      "/Users/cjh/miniconda3/envs/pytorch/lib/python3.6/site-packages/sklearn/utils/validation.py:724: DataConversionWarning: A column-vector y was passed when a 1d array was expected. Please change the shape of y to (n_samples, ), for example using ravel().\n",
      "  y = column_or_1d(y, warn=True)\n"
     ]
    }
   ],
   "source": [
    "train_x, train_y = SMOTENC(categorical_features=[0, 2, 3, 4], \n",
    "                           random_state=42).fit_sample(train_df, label_df)"
   ]
  },
  {
   "cell_type": "code",
   "execution_count": 24,
   "metadata": {},
   "outputs": [
    {
     "data": {
      "text/plain": [
       "(188, 5)"
      ]
     },
     "execution_count": 24,
     "metadata": {},
     "output_type": "execute_result"
    }
   ],
   "source": [
    "train_x.shape"
   ]
  },
  {
   "cell_type": "code",
   "execution_count": 28,
   "metadata": {},
   "outputs": [
    {
     "data": {
      "text/plain": [
       "array(['ed173d87cf27', '2f6139c6b61e', 'bfde563f2df4', 'a5e218237de4',\n",
       "       '01e234fed982', '8890cb1dfefa', '15f3566d639a', '33d56bfae208',\n",
       "       '99b10e9580c6', 'feefc86ee1bf', '80f1d8c0296c', 'bfde563f2df4',\n",
       "       'a5d21b02a3ce', '4a6620e1c32c', 'dec374e53bef', '6d42b1067dc9',\n",
       "       '01e234fed982', '38f41bb456e6', 'a5e218237de4', '63845948aac4',\n",
       "       '0caeac13b80f', 'd28ceaaccd35', '72c6a88c3552', '8cebb42ffb63',\n",
       "       '4127e0857764', '0e3798b2f06b', '99b10e9580c6', 'ea4f4679096b',\n",
       "       '1d9fcffd2aee', '6d42b1067dc9', '01e234fed982', 'a60b8207c44e',\n",
       "       'c52483759825', 'ed173d87cf27', '6.79329E+11', '6d10bdb0442c',\n",
       "       '98cf6695af2a', 'ed173d87cf27', '72c6a88c3552', '8c63cc7588c9',\n",
       "       'c85b32ff0ea0', 'bdcae37688d6', 'b0b547b7ac11', 'bdcae37688d6',\n",
       "       'ed173d87cf27', '80774a8069f1', '6d42b1067dc9', '2cda4aeef377',\n",
       "       '666bb50bb190', '81677b23a8bf', '2f6139c6b61e', '80f1d8c0296c',\n",
       "       'ae9d091062c3', 'd28ceaaccd35', '01e234fed982', 'caeb470c7b4b',\n",
       "       '8b0ff466ddf4', '80f1d8c0296c', '83d81fd39e33', 'c97468592027',\n",
       "       'bfde563f2df4', 'fd4199a48fc0', '10bb1e1bde7c', '0caeac13b80f',\n",
       "       '0c4d0ed64adc', '6a7ad2dbca7d', '7a6ba503c717', '2c54f7d416ba',\n",
       "       '73962f0bf6b5', 'c14724f8af97', '33d56bfae208', 'b6fb269aba2c',\n",
       "       '8b0ff466ddf4', 'f34a1f1f1abf', 'ea8521b697ee', 'c85b32ff0ea0',\n",
       "       '397ac7fbccb3', '1200ccaaa954', '5b73f5efb3ec', '91372e8363a2',\n",
       "       'ed173d87cf27', '72c6a88c3552', '9d8ef57b6fe7', '4144d5df324d',\n",
       "       'a2e16a6693aa', '3b006fc4fe6c', '33d56bfae208', '4144d5df324d',\n",
       "       '6d42b1067dc9', '4144d5df324d', '4a6620e1c32c', 'e9394de05221',\n",
       "       '6d42b1067dc9', 'a5d21b02a3ce', '80ad213fed16', '0ce15d61f967',\n",
       "       'a5d21b02a3ce', '4a822d4b6eb6', '01e234fed982', '3d55221e6dc2',\n",
       "       '99b10e9580c6', '6d42b1067dc9', '99b10e9580c6', '99b10e9580c6',\n",
       "       '99b10e9580c6', '99b10e9580c6', '99b10e9580c6', '6d42b1067dc9',\n",
       "       '99b10e9580c6', '99b10e9580c6', '6d42b1067dc9', '6d42b1067dc9',\n",
       "       '99b10e9580c6', '99b10e9580c6', '6d42b1067dc9', '6d42b1067dc9',\n",
       "       '99b10e9580c6', '99b10e9580c6', '6d42b1067dc9', '99b10e9580c6',\n",
       "       '6d42b1067dc9', '6d42b1067dc9', '99b10e9580c6', '6d42b1067dc9',\n",
       "       '99b10e9580c6', '99b10e9580c6', '99b10e9580c6', '99b10e9580c6',\n",
       "       '99b10e9580c6', '6d42b1067dc9', '99b10e9580c6', '99b10e9580c6',\n",
       "       '99b10e9580c6', '6d42b1067dc9', '99b10e9580c6', '99b10e9580c6',\n",
       "       '6d42b1067dc9', '6d42b1067dc9', '99b10e9580c6', '99b10e9580c6',\n",
       "       '99b10e9580c6', '99b10e9580c6', '99b10e9580c6', '6d42b1067dc9',\n",
       "       '99b10e9580c6', '99b10e9580c6', '99b10e9580c6', '99b10e9580c6',\n",
       "       '99b10e9580c6', '6d42b1067dc9', '99b10e9580c6', '6d42b1067dc9',\n",
       "       '6d42b1067dc9', '6d42b1067dc9', '99b10e9580c6', '99b10e9580c6',\n",
       "       '6d42b1067dc9', '99b10e9580c6', '6d42b1067dc9', '99b10e9580c6',\n",
       "       '99b10e9580c6', '6d42b1067dc9', '99b10e9580c6', '6d42b1067dc9',\n",
       "       '99b10e9580c6', '99b10e9580c6', '6d42b1067dc9', '99b10e9580c6',\n",
       "       '99b10e9580c6', '99b10e9580c6', '6d42b1067dc9', '99b10e9580c6',\n",
       "       '6d42b1067dc9', '99b10e9580c6', '99b10e9580c6', '99b10e9580c6',\n",
       "       '99b10e9580c6', '99b10e9580c6', '99b10e9580c6', '99b10e9580c6',\n",
       "       '99b10e9580c6', '99b10e9580c6', '99b10e9580c6', '6d42b1067dc9',\n",
       "       '99b10e9580c6', '6d42b1067dc9', '99b10e9580c6', '99b10e9580c6'],\n",
       "      dtype=object)"
      ]
     },
     "execution_count": 28,
     "metadata": {},
     "output_type": "execute_result"
    }
   ],
   "source": [
    "train_x[:, 0]"
   ]
  },
  {
   "cell_type": "code",
   "execution_count": 26,
   "metadata": {},
   "outputs": [
    {
     "data": {
      "text/plain": [
       "array([0, 0, 0, 0, 0, 0, 1, 0, 0, 0, 0, 0, 0, 0, 0, 0, 1, 0, 0, 0, 0, 0,\n",
       "       0, 0, 1, 0, 1, 0, 0, 0, 0, 0, 0, 0, 0, 0, 0, 0, 0, 0, 0, 0, 0, 0,\n",
       "       0, 0, 0, 0, 0, 0, 0, 0, 0, 0, 0, 0, 0, 0, 0, 1, 0, 0, 0, 0, 0, 0,\n",
       "       0, 0, 0, 0, 0, 0, 0, 0, 0, 0, 0, 0, 0, 0, 0, 0, 0, 0, 0, 0, 0, 0,\n",
       "       1, 0, 0, 0, 0, 0, 0, 0, 0, 0, 0, 0, 1, 1, 1, 1, 1, 1, 1, 1, 1, 1,\n",
       "       1, 1, 1, 1, 1, 1, 1, 1, 1, 1, 1, 1, 1, 1, 1, 1, 1, 1, 1, 1, 1, 1,\n",
       "       1, 1, 1, 1, 1, 1, 1, 1, 1, 1, 1, 1, 1, 1, 1, 1, 1, 1, 1, 1, 1, 1,\n",
       "       1, 1, 1, 1, 1, 1, 1, 1, 1, 1, 1, 1, 1, 1, 1, 1, 1, 1, 1, 1, 1, 1,\n",
       "       1, 1, 1, 1, 1, 1, 1, 1, 1, 1, 1, 1])"
      ]
     },
     "execution_count": 26,
     "metadata": {},
     "output_type": "execute_result"
    }
   ],
   "source": [
    "train_y"
   ]
  },
  {
   "cell_type": "code",
   "execution_count": null,
   "metadata": {},
   "outputs": [],
   "source": []
  }
 ],
 "metadata": {
  "kernelspec": {
   "display_name": "pytorch",
   "language": "python",
   "name": "pytorch"
  },
  "language_info": {
   "codemirror_mode": {
    "name": "ipython",
    "version": 3
   },
   "file_extension": ".py",
   "mimetype": "text/x-python",
   "name": "python",
   "nbconvert_exporter": "python",
   "pygments_lexer": "ipython3",
   "version": "3.6.9"
  }
 },
 "nbformat": 4,
 "nbformat_minor": 4
}
