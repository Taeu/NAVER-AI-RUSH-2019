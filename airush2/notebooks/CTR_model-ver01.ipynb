{
 "cells": [
  {
   "cell_type": "markdown",
   "metadata": {},
   "source": [
    "# CTR Prediction Model using Keras"
   ]
  },
  {
   "cell_type": "code",
   "execution_count": 1,
   "metadata": {},
   "outputs": [
    {
     "name": "stderr",
     "output_type": "stream",
     "text": [
      "Using TensorFlow backend.\n"
     ]
    }
   ],
   "source": [
    "import pickle\n",
    "import numpy as np\n",
    "import pandas as pd\n",
    "\n",
    "from keras import layers, models\n",
    "from keras import backend as K\n",
    "from keras.utils import to_categorical\n",
    "from keras.preprocessing.text import Tokenizer\n",
    "from keras.preprocessing.sequence import pad_sequences\n",
    "\n",
    "from tqdm import tqdm\n",
    "from sklearn.preprocessing import StandardScaler, MinMaxScaler\n",
    "\n",
    "from imblearn.under_sampling import RandomUnderSampler\n",
    "from imblearn.over_sampling import SMOTENC"
   ]
  },
  {
   "cell_type": "markdown",
   "metadata": {},
   "source": [
    " "
   ]
  },
  {
   "cell_type": "markdown",
   "metadata": {},
   "source": [
    "## 1. Data Load"
   ]
  },
  {
   "cell_type": "code",
   "execution_count": 2,
   "metadata": {},
   "outputs": [],
   "source": [
    "train_file = '../data/train.tsv'\n",
    "label_file = '../data/train_label.tsv'\n",
    "article_file = '../data/train_data_article.tsv'\n",
    "\n",
    "train_df = pd.read_csv(train_file, sep='\\t')\n",
    "label_df = pd.read_csv(label_file, sep='\\t')\n",
    "article_df = pd.read_csv(article_file, sep='\\t')"
   ]
  },
  {
   "cell_type": "code",
   "execution_count": 3,
   "metadata": {},
   "outputs": [],
   "source": [
    "img_file = '../data/train_image_features.pkl'\n",
    "with open(img_file, 'rb') as fp:\n",
    "    img_feature_dic = pickle.load(fp)"
   ]
  },
  {
   "cell_type": "code",
   "execution_count": 4,
   "metadata": {},
   "outputs": [],
   "source": [
    "# article_df.head()"
   ]
  },
  {
   "cell_type": "code",
   "execution_count": 5,
   "metadata": {},
   "outputs": [],
   "source": [
    "# train_df.head()"
   ]
  },
  {
   "cell_type": "markdown",
   "metadata": {},
   "source": [
    " "
   ]
  },
  {
   "cell_type": "markdown",
   "metadata": {},
   "source": [
    "## 2. Data Preprocessing"
   ]
  },
  {
   "cell_type": "markdown",
   "metadata": {},
   "source": [
    "### 1) train_data"
   ]
  },
  {
   "cell_type": "code",
   "execution_count": 6,
   "metadata": {},
   "outputs": [],
   "source": [
    "def create_readlist(row):\n",
    "    if row:\n",
    "        return row.split(',')\n",
    "    else:\n",
    "        return []"
   ]
  },
  {
   "cell_type": "code",
   "execution_count": 7,
   "metadata": {},
   "outputs": [],
   "source": [
    "train_df = train_df.fillna('')  # fillna"
   ]
  },
  {
   "cell_type": "code",
   "execution_count": 8,
   "metadata": {},
   "outputs": [],
   "source": [
    "train_df['read_article_list'] = train_df['read_article_ids'].apply(create_readlist)\n",
    "train_df['read_len'] = train_df['read_article_list'].apply(len)"
   ]
  },
  {
   "cell_type": "code",
   "execution_count": 9,
   "metadata": {},
   "outputs": [
    {
     "data": {
      "text/html": [
       "<div>\n",
       "<style scoped>\n",
       "    .dataframe tbody tr th:only-of-type {\n",
       "        vertical-align: middle;\n",
       "    }\n",
       "\n",
       "    .dataframe tbody tr th {\n",
       "        vertical-align: top;\n",
       "    }\n",
       "\n",
       "    .dataframe thead th {\n",
       "        text-align: right;\n",
       "    }\n",
       "</style>\n",
       "<table border=\"1\" class=\"dataframe\">\n",
       "  <thead>\n",
       "    <tr style=\"text-align: right;\">\n",
       "      <th></th>\n",
       "      <th>article_id</th>\n",
       "      <th>hh</th>\n",
       "      <th>gender</th>\n",
       "      <th>age_range</th>\n",
       "      <th>read_article_ids</th>\n",
       "      <th>read_article_list</th>\n",
       "      <th>read_len</th>\n",
       "    </tr>\n",
       "  </thead>\n",
       "  <tbody>\n",
       "    <tr>\n",
       "      <th>0</th>\n",
       "      <td>ed173d87cf27</td>\n",
       "      <td>17</td>\n",
       "      <td>m</td>\n",
       "      <td>50-</td>\n",
       "      <td>d6e3c3f0d131,85270a430a54,4364abac22bf</td>\n",
       "      <td>[d6e3c3f0d131, 85270a430a54, 4364abac22bf]</td>\n",
       "      <td>3</td>\n",
       "    </tr>\n",
       "    <tr>\n",
       "      <th>1</th>\n",
       "      <td>2f6139c6b61e</td>\n",
       "      <td>6</td>\n",
       "      <td>m</td>\n",
       "      <td>40-44</td>\n",
       "      <td>04f098ccc312,c353deabeed8,94599f81d773,09f0324...</td>\n",
       "      <td>[04f098ccc312, c353deabeed8, 94599f81d773, 09f...</td>\n",
       "      <td>15</td>\n",
       "    </tr>\n",
       "    <tr>\n",
       "      <th>2</th>\n",
       "      <td>bfde563f2df4</td>\n",
       "      <td>9</td>\n",
       "      <td>m</td>\n",
       "      <td>50-</td>\n",
       "      <td></td>\n",
       "      <td>[]</td>\n",
       "      <td>0</td>\n",
       "    </tr>\n",
       "    <tr>\n",
       "      <th>3</th>\n",
       "      <td>a5e218237de4</td>\n",
       "      <td>7</td>\n",
       "      <td>m</td>\n",
       "      <td>40-44</td>\n",
       "      <td>14a7cb6072af</td>\n",
       "      <td>[14a7cb6072af]</td>\n",
       "      <td>1</td>\n",
       "    </tr>\n",
       "    <tr>\n",
       "      <th>4</th>\n",
       "      <td>01e234fed982</td>\n",
       "      <td>8</td>\n",
       "      <td>f</td>\n",
       "      <td>40-44</td>\n",
       "      <td>bec684f0ace5,83882e5ba8f4,3460807b3aef,ae197ea...</td>\n",
       "      <td>[bec684f0ace5, 83882e5ba8f4, 3460807b3aef, ae1...</td>\n",
       "      <td>9</td>\n",
       "    </tr>\n",
       "  </tbody>\n",
       "</table>\n",
       "</div>"
      ],
      "text/plain": [
       "     article_id  hh gender age_range  \\\n",
       "0  ed173d87cf27  17      m       50-   \n",
       "1  2f6139c6b61e   6      m     40-44   \n",
       "2  bfde563f2df4   9      m       50-   \n",
       "3  a5e218237de4   7      m     40-44   \n",
       "4  01e234fed982   8      f     40-44   \n",
       "\n",
       "                                    read_article_ids  \\\n",
       "0             d6e3c3f0d131,85270a430a54,4364abac22bf   \n",
       "1  04f098ccc312,c353deabeed8,94599f81d773,09f0324...   \n",
       "2                                                      \n",
       "3                                       14a7cb6072af   \n",
       "4  bec684f0ace5,83882e5ba8f4,3460807b3aef,ae197ea...   \n",
       "\n",
       "                                   read_article_list  read_len  \n",
       "0         [d6e3c3f0d131, 85270a430a54, 4364abac22bf]         3  \n",
       "1  [04f098ccc312, c353deabeed8, 94599f81d773, 09f...        15  \n",
       "2                                                 []         0  \n",
       "3                                     [14a7cb6072af]         1  \n",
       "4  [bec684f0ace5, 83882e5ba8f4, 3460807b3aef, ae1...         9  "
      ]
     },
     "execution_count": 9,
     "metadata": {},
     "output_type": "execute_result"
    }
   ],
   "source": [
    "train_df.head()"
   ]
  },
  {
   "cell_type": "markdown",
   "metadata": {},
   "source": [
    " "
   ]
  },
  {
   "cell_type": "markdown",
   "metadata": {},
   "source": [
    "### 2) Label Encoding"
   ]
  },
  {
   "cell_type": "code",
   "execution_count": 10,
   "metadata": {},
   "outputs": [],
   "source": [
    "sex = {'unknown': 0, 'm': 1, 'f': 2}\n",
    "age = {'unknown': 0, '-14': 1, '15-19': 2, '20-24': 3, '25-29': 4,\n",
    "        '30-34': 5, '35-39': 6, '40-44': 7, '45-49': 8, '50-': 9}"
   ]
  },
  {
   "cell_type": "code",
   "execution_count": 11,
   "metadata": {},
   "outputs": [],
   "source": [
    "train_df['gender'] = train_df['gender'].apply(lambda row: sex[row])\n",
    "train_df['age_range'] = train_df['age_range'].apply(lambda row: age[row])"
   ]
  },
  {
   "cell_type": "code",
   "execution_count": 12,
   "metadata": {},
   "outputs": [
    {
     "data": {
      "text/html": [
       "<div>\n",
       "<style scoped>\n",
       "    .dataframe tbody tr th:only-of-type {\n",
       "        vertical-align: middle;\n",
       "    }\n",
       "\n",
       "    .dataframe tbody tr th {\n",
       "        vertical-align: top;\n",
       "    }\n",
       "\n",
       "    .dataframe thead th {\n",
       "        text-align: right;\n",
       "    }\n",
       "</style>\n",
       "<table border=\"1\" class=\"dataframe\">\n",
       "  <thead>\n",
       "    <tr style=\"text-align: right;\">\n",
       "      <th></th>\n",
       "      <th>article_id</th>\n",
       "      <th>hh</th>\n",
       "      <th>gender</th>\n",
       "      <th>age_range</th>\n",
       "      <th>read_article_ids</th>\n",
       "      <th>read_article_list</th>\n",
       "      <th>read_len</th>\n",
       "    </tr>\n",
       "  </thead>\n",
       "  <tbody>\n",
       "    <tr>\n",
       "      <th>0</th>\n",
       "      <td>ed173d87cf27</td>\n",
       "      <td>17</td>\n",
       "      <td>1</td>\n",
       "      <td>9</td>\n",
       "      <td>d6e3c3f0d131,85270a430a54,4364abac22bf</td>\n",
       "      <td>[d6e3c3f0d131, 85270a430a54, 4364abac22bf]</td>\n",
       "      <td>3</td>\n",
       "    </tr>\n",
       "    <tr>\n",
       "      <th>1</th>\n",
       "      <td>2f6139c6b61e</td>\n",
       "      <td>6</td>\n",
       "      <td>1</td>\n",
       "      <td>7</td>\n",
       "      <td>04f098ccc312,c353deabeed8,94599f81d773,09f0324...</td>\n",
       "      <td>[04f098ccc312, c353deabeed8, 94599f81d773, 09f...</td>\n",
       "      <td>15</td>\n",
       "    </tr>\n",
       "    <tr>\n",
       "      <th>2</th>\n",
       "      <td>bfde563f2df4</td>\n",
       "      <td>9</td>\n",
       "      <td>1</td>\n",
       "      <td>9</td>\n",
       "      <td></td>\n",
       "      <td>[]</td>\n",
       "      <td>0</td>\n",
       "    </tr>\n",
       "    <tr>\n",
       "      <th>3</th>\n",
       "      <td>a5e218237de4</td>\n",
       "      <td>7</td>\n",
       "      <td>1</td>\n",
       "      <td>7</td>\n",
       "      <td>14a7cb6072af</td>\n",
       "      <td>[14a7cb6072af]</td>\n",
       "      <td>1</td>\n",
       "    </tr>\n",
       "    <tr>\n",
       "      <th>4</th>\n",
       "      <td>01e234fed982</td>\n",
       "      <td>8</td>\n",
       "      <td>2</td>\n",
       "      <td>7</td>\n",
       "      <td>bec684f0ace5,83882e5ba8f4,3460807b3aef,ae197ea...</td>\n",
       "      <td>[bec684f0ace5, 83882e5ba8f4, 3460807b3aef, ae1...</td>\n",
       "      <td>9</td>\n",
       "    </tr>\n",
       "  </tbody>\n",
       "</table>\n",
       "</div>"
      ],
      "text/plain": [
       "     article_id  hh  gender  age_range  \\\n",
       "0  ed173d87cf27  17       1          9   \n",
       "1  2f6139c6b61e   6       1          7   \n",
       "2  bfde563f2df4   9       1          9   \n",
       "3  a5e218237de4   7       1          7   \n",
       "4  01e234fed982   8       2          7   \n",
       "\n",
       "                                    read_article_ids  \\\n",
       "0             d6e3c3f0d131,85270a430a54,4364abac22bf   \n",
       "1  04f098ccc312,c353deabeed8,94599f81d773,09f0324...   \n",
       "2                                                      \n",
       "3                                       14a7cb6072af   \n",
       "4  bec684f0ace5,83882e5ba8f4,3460807b3aef,ae197ea...   \n",
       "\n",
       "                                   read_article_list  read_len  \n",
       "0         [d6e3c3f0d131, 85270a430a54, 4364abac22bf]         3  \n",
       "1  [04f098ccc312, c353deabeed8, 94599f81d773, 09f...        15  \n",
       "2                                                 []         0  \n",
       "3                                     [14a7cb6072af]         1  \n",
       "4  [bec684f0ace5, 83882e5ba8f4, 3460807b3aef, ae1...         9  "
      ]
     },
     "execution_count": 12,
     "metadata": {},
     "output_type": "execute_result"
    }
   ],
   "source": [
    "train_df.head()"
   ]
  },
  {
   "cell_type": "markdown",
   "metadata": {},
   "source": [
    " "
   ]
  },
  {
   "cell_type": "markdown",
   "metadata": {},
   "source": [
    "### 3) Read len Standard Scaling"
   ]
  },
  {
   "cell_type": "code",
   "execution_count": 13,
   "metadata": {},
   "outputs": [
    {
     "name": "stderr",
     "output_type": "stream",
     "text": [
      "F:\\miniconda3\\envs\\tensorflow\\lib\\site-packages\\sklearn\\preprocessing\\data.py:645: DataConversionWarning: Data with input dtype int64 were all converted to float64 by StandardScaler.\n",
      "  return self.partial_fit(X, y)\n",
      "F:\\miniconda3\\envs\\tensorflow\\lib\\site-packages\\sklearn\\base.py:464: DataConversionWarning: Data with input dtype int64 were all converted to float64 by StandardScaler.\n",
      "  return self.fit(X, **fit_params).transform(X)\n"
     ]
    }
   ],
   "source": [
    "train_df['read_len_norm'] = 0.0\n",
    "train_df[['read_len_norm']] = StandardScaler().fit_transform(train_df[['read_len']])"
   ]
  },
  {
   "cell_type": "code",
   "execution_count": 14,
   "metadata": {},
   "outputs": [],
   "source": [
    "# train_df"
   ]
  },
  {
   "cell_type": "markdown",
   "metadata": {},
   "source": [
    " "
   ]
  },
  {
   "cell_type": "markdown",
   "metadata": {},
   "source": [
    "### 4) read_article_ids "
   ]
  },
  {
   "cell_type": "code",
   "execution_count": 15,
   "metadata": {},
   "outputs": [],
   "source": [
    "# Sequence data max len\n",
    "avg_read_len = train_df['read_len'].mean()\n",
    "avg_read_len = int(np.ceil(avg_read_len))"
   ]
  },
  {
   "cell_type": "code",
   "execution_count": 16,
   "metadata": {},
   "outputs": [],
   "source": [
    "max_features = 30000\n",
    "max_len = avg_read_len"
   ]
  },
  {
   "cell_type": "code",
   "execution_count": 17,
   "metadata": {},
   "outputs": [],
   "source": [
    "tokenizer = Tokenizer(num_words=max_features, filters='', lower=False)\n",
    "tokenizer.fit_on_texts(train_df['read_article_list'].tolist())\n",
    "sequences = tokenizer.texts_to_sequences(train_df['read_article_list'].tolist())"
   ]
  },
  {
   "cell_type": "code",
   "execution_count": 18,
   "metadata": {},
   "outputs": [
    {
     "name": "stdout",
     "output_type": "stream",
     "text": [
      "Found 1710 tokens.\n"
     ]
    }
   ],
   "source": [
    "word_index = tokenizer.word_index\n",
    "print(f'Found {len(word_index)} tokens.')"
   ]
  },
  {
   "cell_type": "code",
   "execution_count": 19,
   "metadata": {},
   "outputs": [],
   "source": [
    "X_read_ids = pad_sequences(sequences, maxlen=max_len)"
   ]
  },
  {
   "cell_type": "code",
   "execution_count": 20,
   "metadata": {},
   "outputs": [
    {
     "data": {
      "text/plain": [
       "(100, 20)"
      ]
     },
     "execution_count": 20,
     "metadata": {},
     "output_type": "execute_result"
    }
   ],
   "source": [
    "X_read_ids.shape"
   ]
  },
  {
   "cell_type": "markdown",
   "metadata": {},
   "source": [
    " "
   ]
  },
  {
   "cell_type": "markdown",
   "metadata": {},
   "source": [
    "### 5) Feature Extraction"
   ]
  },
  {
   "cell_type": "code",
   "execution_count": 21,
   "metadata": {},
   "outputs": [],
   "source": [
    "train_df = train_df[['article_id', 'hh', 'gender', 'age_range', 'read_len_norm']]"
   ]
  },
  {
   "cell_type": "code",
   "execution_count": 22,
   "metadata": {},
   "outputs": [],
   "source": [
    "X = train_df.values\n",
    "y = label_df['label'].values"
   ]
  },
  {
   "cell_type": "code",
   "execution_count": 23,
   "metadata": {},
   "outputs": [],
   "source": [
    "# concat sequence data\n",
    "X = np.column_stack((X, X_read_ids))"
   ]
  },
  {
   "cell_type": "code",
   "execution_count": 24,
   "metadata": {},
   "outputs": [
    {
     "data": {
      "text/plain": [
       "(100, 25)"
      ]
     },
     "execution_count": 24,
     "metadata": {},
     "output_type": "execute_result"
    }
   ],
   "source": [
    "X.shape"
   ]
  },
  {
   "cell_type": "code",
   "execution_count": 25,
   "metadata": {},
   "outputs": [],
   "source": [
    "train_x, train_y = RandomUnderSampler().fit_sample(X, y)"
   ]
  },
  {
   "cell_type": "code",
   "execution_count": null,
   "metadata": {},
   "outputs": [],
   "source": []
  },
  {
   "cell_type": "code",
   "execution_count": 26,
   "metadata": {},
   "outputs": [],
   "source": [
    "a_ids = train_x[:, 0].tolist()\n",
    "x_hh = train_x[:, 1].astype(int)\n",
    "x_gender = train_x[:, 2].astype(int)\n",
    "x_age = train_x[:, 3].astype(int)\n",
    "x_rln = train_x[:, 4]\n",
    "x_reads = train_x[:, 5:].astype(int)"
   ]
  },
  {
   "cell_type": "code",
   "execution_count": 31,
   "metadata": {},
   "outputs": [],
   "source": [
    "rnd_idx = np.random.permutation(len(train_x))"
   ]
  },
  {
   "cell_type": "markdown",
   "metadata": {},
   "source": [
    " "
   ]
  },
  {
   "cell_type": "markdown",
   "metadata": {},
   "source": [
    "## 3. Create Generator"
   ]
  },
  {
   "cell_type": "code",
   "execution_count": 29,
   "metadata": {},
   "outputs": [
    {
     "data": {
      "text/plain": [
       "array([[0., 0., 1.],\n",
       "       [0., 1., 0.],\n",
       "       [0., 1., 0.],\n",
       "       [0., 1., 0.],\n",
       "       [0., 0., 1.],\n",
       "       [0., 1., 0.],\n",
       "       [0., 0., 1.],\n",
       "       [0., 0., 1.],\n",
       "       [0., 0., 1.],\n",
       "       [0., 1., 0.],\n",
       "       [0., 0., 1.],\n",
       "       [0., 0., 1.]], dtype=float32)"
      ]
     },
     "execution_count": 29,
     "metadata": {},
     "output_type": "execute_result"
    }
   ],
   "source": [
    "def generator(X, y, batch_size=256, shuffle=True):\n",
    "    a_ids = X[:, 0].tolist()\n",
    "    x_hh = X[:, 1].astype(int)\n",
    "    x_gender = X[:, 2].astype(int)\n",
    "    x_age = X[:, 3].astype(int)\n",
    "    x_rln = X[:, 4]\n",
    "    x_reads = X[:, 5:].astype(int)\n",
    "    \n",
    "    "
   ]
  },
  {
   "cell_type": "markdown",
   "metadata": {},
   "source": [
    "## 4. CTR Model"
   ]
  },
  {
   "cell_type": "code",
   "execution_count": 84,
   "metadata": {},
   "outputs": [],
   "source": [
    "# parameters\n",
    "hh_dim = 24\n",
    "age_dim = 10\n",
    "embedding_dim = 128\n",
    "img_dim = 2048"
   ]
  },
  {
   "cell_type": "code",
   "execution_count": 102,
   "metadata": {},
   "outputs": [],
   "source": [
    "K.clear_session()\n",
    "\n",
    "####\n",
    "# input\n",
    "###\n",
    "# hh input\n",
    "input_hh = layers.Input(shape=(1, ), dtype='int32', name='hh')\n",
    "# gender input\n",
    "input_gender = layers.Input(shape=(3,), dtype='float32', name='gender')\n",
    "# age input\n",
    "input_age = layers.Input(shape=(1, ), dtype='int32', name='age')\n",
    "# input read_len\n",
    "input_rlen = layers.Input(shape=(1,), dtype='float32', name='rlen')\n",
    "# read_ids input\n",
    "input_reads = layers.Input(shape=(max_len, ), dtype='int32', name='reads')\n",
    "# img features input\n",
    "input_img = layers.Input(shape=(img_dim,), dtype='float32', name='img')\n",
    "\n",
    "####\n",
    "# embedding\n",
    "####\n",
    "embed_hh = layers.Embedding(hh_dim, 8, input_length=1)(input_hh)\n",
    "embed_hh = layers.Reshape((8 ,))(embed_hh)\n",
    "embed_age = layers.Embedding(age_dim, 4, input_length=1)(input_age)\n",
    "embed_age = layers.Reshape((4 ,))(embed_age)\n",
    "embed_reads = layers.Embedding(len(word_index)+1, embedding_dim, input_length=max_len)(input_reads)\n",
    "\n",
    "# concat flat features\n",
    "concat_flat = layers.concatenate([embed_hh, embed_age, input_rlen, input_gender], axis=-1)\n",
    "output_flat = layers.Dense(128, activation='relu')(concat_flat)\n",
    "\n",
    "# LSTM layer\n",
    "output_reads = layers.Bidirectional(layers.LSTM(128))(embed_reads)\n",
    "\n",
    "# concat all features\n",
    "concat_all = layers.concatenate([output_flat, output_reads, input_img], axis=-1)\n",
    "\n",
    "# layers\n",
    "output = layers.Dense(4096, activation='relu')(concat_all)\n",
    "output = layers.Dense(512, activation='relu')(output)\n",
    "logits = layers.Dense(1, activation='sigmoid')(output)"
   ]
  },
  {
   "cell_type": "code",
   "execution_count": 89,
   "metadata": {},
   "outputs": [],
   "source": [
    "model = models.Model([input_hh, input_gender, \n",
    "                      input_age, input_rlen, \n",
    "                      input_reads, input_img], logits)"
   ]
  },
  {
   "cell_type": "code",
   "execution_count": 91,
   "metadata": {},
   "outputs": [
    {
     "name": "stdout",
     "output_type": "stream",
     "text": [
      "__________________________________________________________________________________________________\n",
      "Layer (type)                    Output Shape         Param #     Connected to                     \n",
      "==================================================================================================\n",
      "input_1 (InputLayer)            (None, 1)            0                                            \n",
      "__________________________________________________________________________________________________\n",
      "input_3 (InputLayer)            (None, 1)            0                                            \n",
      "__________________________________________________________________________________________________\n",
      "embedding_1 (Embedding)         (None, 1, 8)         192         input_1[0][0]                    \n",
      "__________________________________________________________________________________________________\n",
      "embedding_2 (Embedding)         (None, 1, 4)         40          input_3[0][0]                    \n",
      "__________________________________________________________________________________________________\n",
      "reshape_1 (Reshape)             (None, 8)            0           embedding_1[0][0]                \n",
      "__________________________________________________________________________________________________\n",
      "reshape_2 (Reshape)             (None, 4)            0           embedding_2[0][0]                \n",
      "__________________________________________________________________________________________________\n",
      "input_4 (InputLayer)            (None, 1)            0                                            \n",
      "__________________________________________________________________________________________________\n",
      "input_2 (InputLayer)            (None, 3)            0                                            \n",
      "__________________________________________________________________________________________________\n",
      "input_5 (InputLayer)            (None, 20)           0                                            \n",
      "__________________________________________________________________________________________________\n",
      "concatenate_1 (Concatenate)     (None, 16)           0           reshape_1[0][0]                  \n",
      "                                                                 reshape_2[0][0]                  \n",
      "                                                                 input_4[0][0]                    \n",
      "                                                                 input_2[0][0]                    \n",
      "__________________________________________________________________________________________________\n",
      "embedding_3 (Embedding)         (None, 20, 128)      219008      input_5[0][0]                    \n",
      "__________________________________________________________________________________________________\n",
      "dense_1 (Dense)                 (None, 128)          2176        concatenate_1[0][0]              \n",
      "__________________________________________________________________________________________________\n",
      "bidirectional_1 (Bidirectional) (None, 256)          263168      embedding_3[0][0]                \n",
      "__________________________________________________________________________________________________\n",
      "input_6 (InputLayer)            (None, 2048)         0                                            \n",
      "__________________________________________________________________________________________________\n",
      "concatenate_2 (Concatenate)     (None, 2432)         0           dense_1[0][0]                    \n",
      "                                                                 bidirectional_1[0][0]            \n",
      "                                                                 input_6[0][0]                    \n",
      "__________________________________________________________________________________________________\n",
      "dense_2 (Dense)                 (None, 4096)         9965568     concatenate_2[0][0]              \n",
      "__________________________________________________________________________________________________\n",
      "dense_3 (Dense)                 (None, 512)          2097664     dense_2[0][0]                    \n",
      "__________________________________________________________________________________________________\n",
      "dense_4 (Dense)                 (None, 1)            513         dense_3[0][0]                    \n",
      "==================================================================================================\n",
      "Total params: 12,548,329\n",
      "Trainable params: 12,548,329\n",
      "Non-trainable params: 0\n",
      "__________________________________________________________________________________________________\n"
     ]
    }
   ],
   "source": [
    "model.summary()"
   ]
  },
  {
   "cell_type": "code",
   "execution_count": null,
   "metadata": {},
   "outputs": [],
   "source": []
  }
 ],
 "metadata": {
  "kernelspec": {
   "display_name": "TensorFlow",
   "language": "python",
   "name": "tensorflow"
  },
  "language_info": {
   "codemirror_mode": {
    "name": "ipython",
    "version": 3
   },
   "file_extension": ".py",
   "mimetype": "text/x-python",
   "name": "python",
   "nbconvert_exporter": "python",
   "pygments_lexer": "ipython3",
   "version": "3.6.8"
  }
 },
 "nbformat": 4,
 "nbformat_minor": 4
}
